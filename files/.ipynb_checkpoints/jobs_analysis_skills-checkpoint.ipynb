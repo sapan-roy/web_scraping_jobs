{
 "cells": [
  {
   "cell_type": "markdown",
   "metadata": {},
   "source": [
    "# Analysis of related skills posted on Naukri.com. \n",
    "\n",
    "### The purpose of this analysis is to provide an insight on different job skills that are desired by the employer when they post a job with our candidate job skill"
   ]
  },
  {
   "cell_type": "code",
   "execution_count": 2,
   "metadata": {},
   "outputs": [],
   "source": [
    "import matplotlib.pyplot as plt\n",
    "import pandas as pd"
   ]
  },
  {
   "cell_type": "markdown",
   "metadata": {},
   "source": [
    "### Below code will highlight row number and column names in a different colour in dataframe"
   ]
  },
  {
   "cell_type": "code",
   "execution_count": 3,
   "metadata": {},
   "outputs": [
    {
     "ename": "FileNotFoundError",
     "evalue": "[Errno 2] No such file or directory: 'style-table.css'",
     "output_type": "error",
     "traceback": [
      "\u001b[1;31m---------------------------------------------------------------------------\u001b[0m",
      "\u001b[1;31mFileNotFoundError\u001b[0m                         Traceback (most recent call last)",
      "\u001b[1;32m<ipython-input-3-6fab06cda22c>\u001b[0m in \u001b[0;36m<module>\u001b[1;34m\u001b[0m\n\u001b[0;32m      1\u001b[0m \u001b[1;32mfrom\u001b[0m \u001b[0mIPython\u001b[0m\u001b[1;33m.\u001b[0m\u001b[0mcore\u001b[0m\u001b[1;33m.\u001b[0m\u001b[0mdisplay\u001b[0m \u001b[1;32mimport\u001b[0m \u001b[0mHTML\u001b[0m\u001b[1;33m\u001b[0m\u001b[1;33m\u001b[0m\u001b[0m\n\u001b[1;32m----> 2\u001b[1;33m \u001b[0mcss\u001b[0m \u001b[1;33m=\u001b[0m \u001b[0mopen\u001b[0m\u001b[1;33m(\u001b[0m\u001b[1;34m'style-table.css'\u001b[0m\u001b[1;33m)\u001b[0m\u001b[1;33m.\u001b[0m\u001b[0mread\u001b[0m\u001b[1;33m(\u001b[0m\u001b[1;33m)\u001b[0m \u001b[1;33m+\u001b[0m \u001b[0mopen\u001b[0m\u001b[1;33m(\u001b[0m\u001b[1;34m'style-notebook.css'\u001b[0m\u001b[1;33m)\u001b[0m\u001b[1;33m.\u001b[0m\u001b[0mread\u001b[0m\u001b[1;33m(\u001b[0m\u001b[1;33m)\u001b[0m\u001b[1;33m\u001b[0m\u001b[1;33m\u001b[0m\u001b[0m\n\u001b[0m\u001b[0;32m      3\u001b[0m \u001b[0mHTML\u001b[0m\u001b[1;33m(\u001b[0m\u001b[1;34m'<style>{}</style>'\u001b[0m\u001b[1;33m.\u001b[0m\u001b[0mformat\u001b[0m\u001b[1;33m(\u001b[0m\u001b[0mcss\u001b[0m\u001b[1;33m)\u001b[0m\u001b[1;33m)\u001b[0m\u001b[1;33m\u001b[0m\u001b[1;33m\u001b[0m\u001b[0m\n",
      "\u001b[1;31mFileNotFoundError\u001b[0m: [Errno 2] No such file or directory: 'style-table.css'"
     ]
    }
   ],
   "source": [
    "from IPython.core.display import HTML\n",
    "css = open('style-table.css').read() + open('style-notebook.css').read()\n",
    "HTML('<style>{}</style>'.format(css))"
   ]
  },
  {
   "cell_type": "markdown",
   "metadata": {},
   "source": [
    "### Select a job skill for which related skills needs to be analysed"
   ]
  },
  {
   "cell_type": "code",
   "execution_count": 3,
   "metadata": {},
   "outputs": [],
   "source": [
    "job_skill = 'python'\n",
    "job_skill = job_skill.upper()"
   ]
  },
  {
   "cell_type": "markdown",
   "metadata": {},
   "source": [
    "### Read data from csv file and show first five records"
   ]
  },
  {
   "cell_type": "code",
   "execution_count": 4,
   "metadata": {},
   "outputs": [
    {
     "data": {
      "text/html": [
       "<div>\n",
       "<style scoped>\n",
       "    .dataframe tbody tr th:only-of-type {\n",
       "        vertical-align: middle;\n",
       "    }\n",
       "\n",
       "    .dataframe tbody tr th {\n",
       "        vertical-align: top;\n",
       "    }\n",
       "\n",
       "    .dataframe thead th {\n",
       "        text-align: right;\n",
       "    }\n",
       "</style>\n",
       "<table border=\"1\" class=\"dataframe\">\n",
       "  <thead>\n",
       "    <tr style=\"text-align: right;\">\n",
       "      <th></th>\n",
       "      <th>job_id</th>\n",
       "      <th>job_title</th>\n",
       "      <th>company</th>\n",
       "      <th>experience</th>\n",
       "      <th>salary</th>\n",
       "      <th>location</th>\n",
       "      <th>job_age</th>\n",
       "      <th>skills</th>\n",
       "    </tr>\n",
       "  </thead>\n",
       "  <tbody>\n",
       "    <tr>\n",
       "      <th>0</th>\n",
       "      <td>1</td>\n",
       "      <td>Research Software Developer (computer Vision)</td>\n",
       "      <td>Resson</td>\n",
       "      <td>2-6 Yrs</td>\n",
       "      <td>Not disclosed</td>\n",
       "      <td>Navi Mumbai</td>\n",
       "      <td>14 DAYS AGO</td>\n",
       "      <td>Object Detection|Algorithm Development|C++|Pat...</td>\n",
       "    </tr>\n",
       "    <tr>\n",
       "      <th>1</th>\n",
       "      <td>2</td>\n",
       "      <td>Bangalore - Full Stack Developer (0-2 Yrs)(jav...</td>\n",
       "      <td>Soft Suave Technologies Private Limited</td>\n",
       "      <td>0-2 Yrs</td>\n",
       "      <td>300000 PA.</td>\n",
       "      <td>Bengaluru</td>\n",
       "      <td>3 DAYS AGO</td>\n",
       "      <td>Java|CSS|Software Development|Software Enginee...</td>\n",
       "    </tr>\n",
       "    <tr>\n",
       "      <th>2</th>\n",
       "      <td>3</td>\n",
       "      <td>Python Developer</td>\n",
       "      <td>bitmonksoftware</td>\n",
       "      <td>0-1 Yrs</td>\n",
       "      <td>Not disclosed</td>\n",
       "      <td>Bengaluru</td>\n",
       "      <td>3 DAYS AGO</td>\n",
       "      <td>OOPS|Python</td>\n",
       "    </tr>\n",
       "    <tr>\n",
       "      <th>3</th>\n",
       "      <td>4</td>\n",
       "      <td>Non-fresher/bca Welcome - Trainee/jr. Develope...</td>\n",
       "      <td>VERTS Services India Private Limited</td>\n",
       "      <td>0-2 Yrs</td>\n",
       "      <td>Not disclosed</td>\n",
       "      <td>Noida</td>\n",
       "      <td>9 DAYS AGO</td>\n",
       "      <td>Go Getter|Communication Skills|Postgresql|MySQ...</td>\n",
       "    </tr>\n",
       "    <tr>\n",
       "      <th>4</th>\n",
       "      <td>5</td>\n",
       "      <td>Hiring Python Developers</td>\n",
       "      <td>WELLS FARGO EGS (India) PRIVATE LIMITED</td>\n",
       "      <td>6-10 Yrs</td>\n",
       "      <td>1300000 - 2300000 PA.</td>\n",
       "      <td>Bengaluru| Hyderabad</td>\n",
       "      <td>3 DAYS AGO</td>\n",
       "      <td>Pyspark|Artificial Intelligence|Hadoop|SCALA|B...</td>\n",
       "    </tr>\n",
       "  </tbody>\n",
       "</table>\n",
       "</div>"
      ],
      "text/plain": [
       "   job_id                                          job_title  \\\n",
       "0       1      Research Software Developer (computer Vision)   \n",
       "1       2  Bangalore - Full Stack Developer (0-2 Yrs)(jav...   \n",
       "2       3                                   Python Developer   \n",
       "3       4  Non-fresher/bca Welcome - Trainee/jr. Develope...   \n",
       "4       5                           Hiring Python Developers   \n",
       "\n",
       "                                   company experience                 salary  \\\n",
       "0                                   Resson    2-6 Yrs          Not disclosed   \n",
       "1  Soft Suave Technologies Private Limited    0-2 Yrs             300000 PA.   \n",
       "2                          bitmonksoftware    0-1 Yrs          Not disclosed   \n",
       "3     VERTS Services India Private Limited    0-2 Yrs          Not disclosed   \n",
       "4  WELLS FARGO EGS (India) PRIVATE LIMITED   6-10 Yrs  1300000 - 2300000 PA.   \n",
       "\n",
       "               location      job_age  \\\n",
       "0           Navi Mumbai  14 DAYS AGO   \n",
       "1             Bengaluru   3 DAYS AGO   \n",
       "2             Bengaluru   3 DAYS AGO   \n",
       "3                 Noida   9 DAYS AGO   \n",
       "4  Bengaluru| Hyderabad   3 DAYS AGO   \n",
       "\n",
       "                                              skills  \n",
       "0  Object Detection|Algorithm Development|C++|Pat...  \n",
       "1  Java|CSS|Software Development|Software Enginee...  \n",
       "2                                        OOPS|Python  \n",
       "3  Go Getter|Communication Skills|Postgresql|MySQ...  \n",
       "4  Pyspark|Artificial Intelligence|Hadoop|SCALA|B...  "
      ]
     },
     "execution_count": 4,
     "metadata": {},
     "output_type": "execute_result"
    }
   ],
   "source": [
    "jobs = pd.read_csv('naukri_scrapped_data2.csv')\n",
    "jobs.head()"
   ]
  },
  {
   "cell_type": "markdown",
   "metadata": {},
   "source": [
    "### For each job, expand jobs skills originally seperated by '|' to separate rows"
   ]
  },
  {
   "cell_type": "code",
   "execution_count": 5,
   "metadata": {},
   "outputs": [
    {
     "data": {
      "text/html": [
       "<div>\n",
       "<style scoped>\n",
       "    .dataframe tbody tr th:only-of-type {\n",
       "        vertical-align: middle;\n",
       "    }\n",
       "\n",
       "    .dataframe tbody tr th {\n",
       "        vertical-align: top;\n",
       "    }\n",
       "\n",
       "    .dataframe thead th {\n",
       "        text-align: right;\n",
       "    }\n",
       "</style>\n",
       "<table border=\"1\" class=\"dataframe\">\n",
       "  <thead>\n",
       "    <tr style=\"text-align: right;\">\n",
       "      <th></th>\n",
       "      <th>job_id</th>\n",
       "      <th>skills</th>\n",
       "    </tr>\n",
       "  </thead>\n",
       "  <tbody>\n",
       "    <tr>\n",
       "      <th>0</th>\n",
       "      <td>1</td>\n",
       "      <td>Object Detection</td>\n",
       "    </tr>\n",
       "    <tr>\n",
       "      <th>0</th>\n",
       "      <td>1</td>\n",
       "      <td>Algorithm Development</td>\n",
       "    </tr>\n",
       "    <tr>\n",
       "      <th>0</th>\n",
       "      <td>1</td>\n",
       "      <td>C++</td>\n",
       "    </tr>\n",
       "    <tr>\n",
       "      <th>0</th>\n",
       "      <td>1</td>\n",
       "      <td>Pattern Recognition</td>\n",
       "    </tr>\n",
       "    <tr>\n",
       "      <th>0</th>\n",
       "      <td>1</td>\n",
       "      <td>Algorithms</td>\n",
       "    </tr>\n",
       "  </tbody>\n",
       "</table>\n",
       "</div>"
      ],
      "text/plain": [
       "   job_id                 skills\n",
       "0       1       Object Detection\n",
       "0       1  Algorithm Development\n",
       "0       1                    C++\n",
       "0       1    Pattern Recognition\n",
       "0       1             Algorithms"
      ]
     },
     "execution_count": 5,
     "metadata": {},
     "output_type": "execute_result"
    }
   ],
   "source": [
    "jobs_df = jobs[['job_id', 'skills']]\n",
    "jobs_df = jobs_df.assign(skills = jobs_df['skills'].str.split('|')).explode('skills')\n",
    "jobs_df.head()"
   ]
  },
  {
   "cell_type": "markdown",
   "metadata": {},
   "source": [
    "### Fetch job_ids of all the posted job that has tagged our candidate skill as one of the required skills"
   ]
  },
  {
   "cell_type": "code",
   "execution_count": 6,
   "metadata": {},
   "outputs": [],
   "source": [
    "job_ids = jobs_df[jobs_df.skills.str.upper() == job_skill]['job_id']\n",
    "job_ids.columns = ['job_id']\n",
    "#job_ids.head()"
   ]
  },
  {
   "cell_type": "markdown",
   "metadata": {},
   "source": [
    "### Join jobs_df dataframe with job_ids dataframe created in last two steps with 'job_id' as the key column"
   ]
  },
  {
   "cell_type": "code",
   "execution_count": 7,
   "metadata": {},
   "outputs": [],
   "source": [
    "required_skills = jobs_df.merge(job_ids,on=['job_id'])\n",
    "#required_skills"
   ]
  },
  {
   "cell_type": "markdown",
   "metadata": {},
   "source": [
    "### Group final dataset by skill to view how many time different skills have been tagged with our candidate skill. This will provide an insight on different job skills that are desired by the employer when they post a job with our candidate job skill"
   ]
  },
  {
   "cell_type": "code",
   "execution_count": 8,
   "metadata": {},
   "outputs": [],
   "source": [
    "req_skill_view = required_skills[required_skills['skills'].str.upper() != job_skill].groupby(required_skills['skills'].str.upper()).size()\n",
    "req_skill_view = req_skill_view.sort_values(ascending=False)\n",
    "#req_skill_view"
   ]
  },
  {
   "cell_type": "markdown",
   "metadata": {},
   "source": [
    "### Plot a barchart showing this relation"
   ]
  },
  {
   "cell_type": "code",
   "execution_count": 9,
   "metadata": {},
   "outputs": [
    {
     "data": {
      "text/plain": [
       "Text(0.5,0,'PYTHON')"
      ]
     },
     "execution_count": 9,
     "metadata": {},
     "output_type": "execute_result"
    },
    {
     "data": {
      "image/png": "[encoded data removed]",
      "text/plain": [
       "<Figure size 432x288 with 1 Axes>"
      ]
     },
     "metadata": {
      "needs_background": "light"
     },
     "output_type": "display_data"
    }
   ],
   "source": [
    "#gr = plt.figure(figsize=(50,30))\n",
    "#gr.show()\n",
    "\n",
    "graph = req_skill_view.head(30).plot(kind='bar')\n",
    "graph.set_xlabel(job_skill)"
   ]
  },
  {
   "cell_type": "code",
   "execution_count": null,
   "metadata": {},
   "outputs": [],
   "source": []
  }
 ],
 "metadata": {
  "kernelspec": {
   "display_name": "Python 3",
   "language": "python",
   "name": "python3"
  },
  "language_info": {
   "codemirror_mode": {
    "name": "ipython",
    "version": 3
   },
   "file_extension": ".py",
   "mimetype": "text/x-python",
   "name": "python",
   "nbconvert_exporter": "python",
   "pygments_lexer": "ipython3",
   "version": "3.9.5"
  }
 },
 "nbformat": 4,
 "nbformat_minor": 2
}
